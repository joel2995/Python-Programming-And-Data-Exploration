{
 "cells": [
  {
   "cell_type": "markdown",
   "id": "d6b15719",
   "metadata": {},
   "source": [
    "# Python Exercises - Day 1"
   ]
  },
  {
   "cell_type": "code",
   "execution_count": 1,
   "id": "81104d2a",
   "metadata": {},
   "outputs": [
    {
     "data": {
      "text/plain": [
       "(50, 40, 30, 20, 10)"
      ]
     },
     "execution_count": 1,
     "metadata": {},
     "output_type": "execute_result"
    }
   ],
   "source": [
    "\n",
    "# 1) Reverse the following tuple\n",
    "aTuple = (10, 20, 30, 40, 50)\n",
    "# Expected output: (50, 40, 30, 20, 10)\n",
    "reversed_tuple = aTuple[::-1]\n",
    "reversed_tuple\n"
   ]
  },
  {
   "cell_type": "code",
   "execution_count": 2,
   "id": "a11d89f2",
   "metadata": {},
   "outputs": [
    {
     "data": {
      "text/plain": [
       "20"
      ]
     },
     "execution_count": 2,
     "metadata": {},
     "output_type": "execute_result"
    }
   ],
   "source": [
    "\n",
    "# 2) Access value 20 from the following tuple\n",
    "aTuple = (\"Orange\", [10, 20, 30], (5, 15, 25))\n",
    "# Expected output: 20\n",
    "value_20 = aTuple[1][1]\n",
    "value_20\n"
   ]
  },
  {
   "cell_type": "code",
   "execution_count": 3,
   "id": "65f32968",
   "metadata": {},
   "outputs": [
    {
     "data": {
      "text/plain": [
       "((99, 88), (11, 22))"
      ]
     },
     "execution_count": 3,
     "metadata": {},
     "output_type": "execute_result"
    }
   ],
   "source": [
    "\n",
    "# 3) Swap the following two tuples\n",
    "tuple1 = (11, 22)\n",
    "tuple2 = (99, 88)\n",
    "# Expected output:\n",
    "# tuple1 = (99, 88)\n",
    "# tuple2 = (11, 22)\n",
    "tuple1, tuple2 = tuple2, tuple1\n",
    "tuple1, tuple2\n"
   ]
  },
  {
   "cell_type": "code",
   "execution_count": 4,
   "id": "57a07be9",
   "metadata": {},
   "outputs": [
    {
     "data": {
      "text/plain": [
       "(44, 55)"
      ]
     },
     "execution_count": 4,
     "metadata": {},
     "output_type": "execute_result"
    }
   ],
   "source": [
    "\n",
    "# 4) Copy element 44 and 55 from the following tuple into a new tuple\n",
    "tuple1 = (11, 22, 33, 44, 55, 66)\n",
    "# Expected output: tuple2 = (44, 55)\n",
    "tuple2 = tuple1[3:5]\n",
    "tuple2\n"
   ]
  },
  {
   "cell_type": "code",
   "execution_count": 5,
   "id": "ea21d114",
   "metadata": {},
   "outputs": [
    {
     "data": {
      "text/plain": [
       "(11, [222, 33], 44, 55)"
      ]
     },
     "execution_count": 5,
     "metadata": {},
     "output_type": "execute_result"
    }
   ],
   "source": [
    "\n",
    "# 5) Modify the first item (22) of a list inside a following tuple to 222\n",
    "tuple1 = (11, [22, 33], 44, 55)\n",
    "# Expected output: tuple1 = (11, [222, 33], 44, 55)\n",
    "tuple1[1][0] = 222\n",
    "tuple1\n"
   ]
  },
  {
   "cell_type": "code",
   "execution_count": 6,
   "id": "017bbc97",
   "metadata": {},
   "outputs": [
    {
     "data": {
      "text/plain": [
       "2"
      ]
     },
     "execution_count": 6,
     "metadata": {},
     "output_type": "execute_result"
    }
   ],
   "source": [
    "\n",
    "# 6) Count the number of occurrences of item 50 from a tuple\n",
    "tuple1 = (50, 10, 60, 70, 50)\n",
    "# Expected output: 2\n",
    "occurrences_50 = tuple1.count(50)\n",
    "occurrences_50\n"
   ]
  },
  {
   "cell_type": "code",
   "execution_count": 7,
   "id": "77b367f1",
   "metadata": {},
   "outputs": [
    {
     "data": {
      "text/plain": [
       "[10, 20, [300, 400, [5000, 6000, 7000], 500], 30, 40]"
      ]
     },
     "execution_count": 7,
     "metadata": {},
     "output_type": "execute_result"
    }
   ],
   "source": [
    "\n",
    "# 7) Add item 7000 after 6000 in the following Python List\n",
    "list1 = [10, 20, [300, 400, [5000, 6000], 500], 30, 40]\n",
    "# Expected output: [10, 20, [300, 400, [5000, 6000, 7000], 500], 30, 40]\n",
    "list1[2][2].append(7000)\n",
    "list1\n"
   ]
  },
  {
   "cell_type": "code",
   "execution_count": 8,
   "id": "e5a131be",
   "metadata": {},
   "outputs": [
    {
     "data": {
      "text/plain": [
       "[5, 10, 15, 200, 25, 50, 20]"
      ]
     },
     "execution_count": 8,
     "metadata": {},
     "output_type": "execute_result"
    }
   ],
   "source": [
    "\n",
    "# 8) Given a Python list, find value 20 in the list, and if it is present, replace it with 200.\n",
    "# Only update the first occurrence of a value.\n",
    "list1 = [5, 10, 15, 20, 25, 50, 20]\n",
    "# Expected output: list1 = [5, 10, 15, 200, 25, 50, 20]\n",
    "index_20 = list1.index(20)\n",
    "list1[index_20] = 200\n",
    "list1\n"
   ]
  },
  {
   "cell_type": "code",
   "execution_count": 9,
   "id": "6be02930",
   "metadata": {},
   "outputs": [
    {
     "data": {
      "text/plain": [
       "'dbca'"
      ]
     },
     "execution_count": 9,
     "metadata": {},
     "output_type": "execute_result"
    }
   ],
   "source": [
    "\n",
    "# 9) Write a Python program to change a given string to a new string where the first and \n",
    "# last chars have been exchanged.\n",
    "string1 = \"abcd\"\n",
    "# Expected output: \"dbca\"\n",
    "new_string = string1[-1] + string1[1:-1] + string1[0]\n",
    "new_string\n"
   ]
  },
  {
   "cell_type": "code",
   "execution_count": 10,
   "id": "8f01c6dc",
   "metadata": {},
   "outputs": [
    {
     "data": {
      "text/plain": [
       "2"
      ]
     },
     "execution_count": 10,
     "metadata": {},
     "output_type": "execute_result"
    }
   ],
   "source": [
    "\n",
    "# 10) Find all occurrences of “USA” in given string ignoring the case.\n",
    "input_str = \"Welcome to USA. usa awesome, isn't it?\"\n",
    "# Expected output: The USA count is: 2\n",
    "count_usa = input_str.lower().count('usa')\n",
    "count_usa\n"
   ]
  },
  {
   "cell_type": "code",
   "execution_count": null,
   "id": "03072299",
   "metadata": {},
   "outputs": [],
   "source": []
  }
 ],
 "metadata": {
  "kernelspec": {
   "display_name": "Python 3",
   "language": "python",
   "name": "python3"
  },
  "language_info": {
   "codemirror_mode": {
    "name": "ipython",
    "version": 3
   },
   "file_extension": ".py",
   "mimetype": "text/x-python",
   "name": "python",
   "nbconvert_exporter": "python",
   "pygments_lexer": "ipython3",
   "version": "3.12.5"
  }
 },
 "nbformat": 4,
 "nbformat_minor": 5
}
